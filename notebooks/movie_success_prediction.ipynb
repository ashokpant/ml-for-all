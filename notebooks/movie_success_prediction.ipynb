{
 "cells": [
  {
   "cell_type": "code",
   "execution_count": null,
   "outputs": [],
   "source": [
    "import pandas as pd\n",
    "import numpy as np"
   ],
   "metadata": {
    "collapsed": false,
    "pycharm": {
     "name": "#%%\n"
    }
   }
  },
  {
   "cell_type": "code",
   "execution_count": null,
   "outputs": [],
   "source": [
    "columns=[\"movie_id\", \"movie_name\", \"rating\", \"actors\",\"director\", \"producer\", \"generes\"]\n",
    "data =[]\n",
    "data.append([\"M1\", \"Movie1\", 5.0, [\"A1\", \"A2\"], \"D1\", \"P1\", [\"drama\", \"horrer\"]])\n",
    "data.append([\"M2\", \"Movie2\", 3.0, [\"A1\"], \"D1\", \"P1\", [\"action\", \"horrer\"]])\n",
    "data.append([\"M3\", \"Movie3\", 4.0, [\"A2\", \"A3\"], \"D2\", \"P1\", [\"comedy\", \"action\"]])             \n",
    "mdf=pd.DataFrame(columns =columns, data=data)\n",
    "             "
   ],
   "metadata": {
    "collapsed": false,
    "pycharm": {
     "name": "#%%\n"
    }
   }
  },
  {
   "cell_type": "code",
   "execution_count": null,
   "outputs": [],
   "source": [
    "mdf.head()\n"
   ],
   "metadata": {
    "collapsed": false,
    "pycharm": {
     "name": "#%%\n"
    }
   }
  },
  {
   "cell_type": "code",
   "execution_count": null,
   "outputs": [],
   "source": [
    "actors=set()\n",
    "for v in mdf[\"actors\"].values:\n",
    "    actors.update(v)\n",
    "actors =list(actors)\n"
   ],
   "metadata": {
    "collapsed": false,
    "pycharm": {
     "name": "#%%\n"
    }
   }
  },
  {
   "cell_type": "code",
   "execution_count": null,
   "outputs": [],
   "source": [
    "actors = {\"A1\": {\"actor_id\":\"A1\", \"actor_name\":\"A1\",\"rating\":0.0},\n",
    "          \"A2\": {\"actor_id\":\"A2\", \"actor_name\":\"A2\",\"rating\":0.0},\n",
    "          \"A3\": {\"actor_id\":\"A3\", \"actor_name\":\"A3\",\"rating\":0.0}}\n",
    "actors"
   ],
   "metadata": {
    "collapsed": false,
    "pycharm": {
     "name": "#%%\n"
    }
   }
  },
  {
   "cell_type": "code",
   "execution_count": null,
   "outputs": [],
   "source": [
    "actor_ratings={}\n",
    "for i, row in mdf.iterrows():\n",
    "    _actor_ids=row[\"actors\"]\n",
    "    for _actor_id in _actor_ids:\n",
    "        if actor_ratings.get(_actor_id, None) is None:\n",
    "            actor_ratings[_actor_id]=[]\n",
    "        actor_ratings[_actor_id].extend([row[\"rating\"]])\n",
    "print(actor_ratings)\n",
    "for _actor_id in actor_ratings.keys():\n",
    "    rating= np.mean(actor_ratings[_actor_id])\n",
    "    actors[_actor_id][\"rating\"]=rating\n",
    "print(actors)"
   ],
   "metadata": {
    "collapsed": false,
    "pycharm": {
     "name": "#%%\n"
    }
   }
  },
  {
   "cell_type": "code",
   "execution_count": null,
   "outputs": [],
   "source": [],
   "metadata": {
    "collapsed": false,
    "pycharm": {
     "name": "#%%\n"
    }
   }
  },
  {
   "cell_type": "code",
   "execution_count": null,
   "outputs": [],
   "source": [
    "## Movie dataset\n",
    "movies_columns=[\"movie_id\", \"rating\", \"actor_rating\", \"producer_rating\", \"director_rating\", \"genere_rating\"]\n",
    "movies=[]\n",
    "for idx, row in mdf.iterrows():\n",
    "    _actor_ids=row[\"actors\"]\n",
    "    _actor_ratings=[]\n",
    "    for _actor_id in _actor_ids:\n",
    "        r= actors.get(_actor_id, {}).get(\"rating\", 0.0)\n",
    "        _actor_ratings.append(r)\n",
    "    actor_rating=np.mean(_actor_ratings)\n",
    "    producer_rating=0.0 #TODO\n",
    "    director_rating=0.0\n",
    "    genere_rating=0.0\n",
    "    movies.append([row[\"movie_id\"], row[\"rating\"], actor_rating, producer_rating,director_rating,genere_rating])\n",
    "movies"
   ],
   "metadata": {
    "collapsed": false,
    "pycharm": {
     "name": "#%%\n"
    }
   }
  },
  {
   "cell_type": "code",
   "execution_count": null,
   "outputs": [],
   "source": [
    "def compute_actor_rating(actor_ids):\n",
    "    _actor_ratings=[]\n",
    "    for _actor_id in actor_ids:\n",
    "        r= actors.get(_actor_id, {}).get(\"rating\", 0.0)\n",
    "        _actor_ratings.append(r)\n",
    "    actor_rating=np.mean(_actor_ratings)\n",
    "    return actor_rating\n"
   ],
   "metadata": {
    "collapsed": false,
    "pycharm": {
     "name": "#%%\n"
    }
   }
  },
  {
   "cell_type": "code",
   "execution_count": null,
   "outputs": [],
   "source": [
    "## Movie dataset\n",
    "movies={}\n",
    "for idx, row in mdf.iterrows():\n",
    "    actor_rating=compute_actor_rating(row[\"actors\"])\n",
    "    producer_rating=0.0 #TODO\n",
    "    director_rating=0.0\n",
    "    genere_rating=0.0\n",
    "    movies[row[\"movie_id\"]]={\"rating\":row[\"rating\"], \"actor_rating\":actor_rating, \"producer_rating\":producer_rating,\"director_rating\":director_rating,\"genere_rating\":genere_rating}"
   ],
   "metadata": {
    "collapsed": false,
    "pycharm": {
     "name": "#%%\n"
    }
   }
  },
  {
   "cell_type": "code",
   "execution_count": null,
   "outputs": [],
   "source": [
    "movies"
   ],
   "metadata": {
    "collapsed": false,
    "pycharm": {
     "name": "#%%\n"
    }
   }
  },
  {
   "cell_type": "code",
   "execution_count": null,
   "outputs": [],
   "source": [
    "def compute_score(features):\n",
    "    n=2\n",
    "    rating = features[\"rating\"]\n",
    "    if rating is None:\n",
    "        rating=0\n",
    "        n=n-1\n",
    "    score = (rating+features[\"actor_rating\"])/n\n",
    "    return score\n",
    "\n",
    "def categorize_score(score):\n",
    "    if score<=2.5:\n",
    "        category=\"FLOP\"\n",
    "    elif score <=3.5:\n",
    "        category=\"AVERAGE\"\n",
    "    else:\n",
    "        category=\"HIT\"\n",
    "    return category"
   ],
   "metadata": {
    "collapsed": false,
    "pycharm": {
     "name": "#%%\n"
    }
   }
  },
  {
   "cell_type": "code",
   "execution_count": null,
   "outputs": [],
   "source": [
    "mdf[\"score\"]=pd.Series()\n",
    "mdf[\"score\"]=mdf.apply(lambda x:compute_score(movies[x[\"movie_id\"]]), axis=1)\n",
    "mdf[\"category\"]=mdf[\"score\"].apply(lambda x: categorize_score(x))"
   ],
   "metadata": {
    "collapsed": false,
    "pycharm": {
     "name": "#%%\n"
    }
   }
  },
  {
   "cell_type": "code",
   "execution_count": null,
   "outputs": [],
   "source": [
    "mdf"
   ],
   "metadata": {
    "collapsed": false,
    "pycharm": {
     "name": "#%%\n"
    }
   }
  },
  {
   "cell_type": "code",
   "execution_count": null,
   "outputs": [],
   "source": [
    "# Inference\n",
    "x = {\"movie_id\":None, \"movie_name\":\"XYZ\", \"actors\":[\"A2\", \"A3\"], \"director\":\"D1\", \"generes\":[\"comedy\"], \"rating\":None}"
   ],
   "metadata": {
    "collapsed": false,
    "pycharm": {
     "name": "#%%\n"
    }
   }
  },
  {
   "cell_type": "code",
   "execution_count": null,
   "outputs": [],
   "source": [
    "x"
   ],
   "metadata": {
    "collapsed": false,
    "pycharm": {
     "name": "#%%\n"
    }
   }
  },
  {
   "cell_type": "code",
   "execution_count": null,
   "outputs": [],
   "source": [
    "features ={'rating': x[\"rating\"],\n",
    "  'actor_rating': compute_actor_rating(x[\"actors\"]),\n",
    "  'producer_rating': 0.0,\n",
    "  'director_rating': 0.0,\n",
    "  'genere_rating': 0.0}\n",
    "features"
   ],
   "metadata": {
    "collapsed": false,
    "pycharm": {
     "name": "#%%\n"
    }
   }
  },
  {
   "cell_type": "code",
   "execution_count": null,
   "outputs": [],
   "source": [
    "score = compute_score(features)\n",
    "category=categorize_score(score)\n",
    "print (category, score)"
   ],
   "metadata": {
    "collapsed": false,
    "pycharm": {
     "name": "#%%\n"
    }
   }
  },
  {
   "cell_type": "code",
   "execution_count": 1,
   "metadata": {},
   "outputs": [],
   "source": []
  },
  {
   "cell_type": "code",
   "execution_count": 2,
   "metadata": {},
   "outputs": [],
   "source": [
    "columns=[\"movie_id\", \"movie_name\", \"rating\", \"actors\",\"director\", \"producer\", \"generes\"]\n",
    "data =[]\n",
    "data.append([\"M1\", \"Movie1\", 5.0, [\"A1\", \"A2\"], \"D1\", \"P1\", [\"drama\", \"horrer\"]])\n",
    "data.append([\"M2\", \"Movie2\", 3.0, [\"A1\"], \"D1\", \"P1\", [\"action\", \"horrer\"]])\n",
    "data.append([\"M3\", \"Movie3\", 4.0, [\"A2\", \"A3\"], \"D2\", \"P1\", [\"comedy\", \"action\"]])             \n",
    "mdf=pd.DataFrame(columns =columns, data=data)\n",
    "             "
   ]
  },
  {
   "cell_type": "code",
   "execution_count": 3,
   "metadata": {},
   "outputs": [
    {
     "data": {
      "text/html": [
       "<div>\n",
       "<style scoped>\n",
       "    .dataframe tbody tr th:only-of-type {\n",
       "        vertical-align: middle;\n",
       "    }\n",
       "\n",
       "    .dataframe tbody tr th {\n",
       "        vertical-align: top;\n",
       "    }\n",
       "\n",
       "    .dataframe thead th {\n",
       "        text-align: right;\n",
       "    }\n",
       "</style>\n",
       "<table border=\"1\" class=\"dataframe\">\n",
       "  <thead>\n",
       "    <tr style=\"text-align: right;\">\n",
       "      <th></th>\n",
       "      <th>movie_id</th>\n",
       "      <th>movie_name</th>\n",
       "      <th>rating</th>\n",
       "      <th>actors</th>\n",
       "      <th>director</th>\n",
       "      <th>producer</th>\n",
       "      <th>generes</th>\n",
       "    </tr>\n",
       "  </thead>\n",
       "  <tbody>\n",
       "    <tr>\n",
       "      <th>0</th>\n",
       "      <td>M1</td>\n",
       "      <td>Movie1</td>\n",
       "      <td>5.0</td>\n",
       "      <td>[A1, A2]</td>\n",
       "      <td>D1</td>\n",
       "      <td>P1</td>\n",
       "      <td>[drama, horrer]</td>\n",
       "    </tr>\n",
       "    <tr>\n",
       "      <th>1</th>\n",
       "      <td>M2</td>\n",
       "      <td>Movie2</td>\n",
       "      <td>3.0</td>\n",
       "      <td>[A1]</td>\n",
       "      <td>D1</td>\n",
       "      <td>P1</td>\n",
       "      <td>[action, horrer]</td>\n",
       "    </tr>\n",
       "    <tr>\n",
       "      <th>2</th>\n",
       "      <td>M3</td>\n",
       "      <td>Movie3</td>\n",
       "      <td>4.0</td>\n",
       "      <td>[A2, A3]</td>\n",
       "      <td>D2</td>\n",
       "      <td>P1</td>\n",
       "      <td>[comedy, action]</td>\n",
       "    </tr>\n",
       "  </tbody>\n",
       "</table>\n",
       "</div>"
      ],
      "text/plain": [
       "  movie_id movie_name  rating    actors director producer           generes\n",
       "0       M1     Movie1     5.0  [A1, A2]       D1       P1   [drama, horrer]\n",
       "1       M2     Movie2     3.0      [A1]       D1       P1  [action, horrer]\n",
       "2       M3     Movie3     4.0  [A2, A3]       D2       P1  [comedy, action]"
      ]
     },
     "execution_count": 3,
     "metadata": {},
     "output_type": "execute_result"
    }
   ],
   "source": [
    "mdf.head()\n"
   ]
  },
  {
   "cell_type": "code",
   "execution_count": 4,
   "metadata": {},
   "outputs": [],
   "source": [
    "actors=set()\n",
    "for v in mdf[\"actors\"].values:\n",
    "    actors.update(v)\n",
    "actors =list(actors)\n"
   ]
  },
  {
   "cell_type": "code",
   "execution_count": 5,
   "metadata": {},
   "outputs": [
    {
     "data": {
      "text/plain": [
       "{'A1': {'actor_id': 'A1', 'actor_name': 'A1', 'rating': 0.0},\n",
       " 'A2': {'actor_id': 'A2', 'actor_name': 'A2', 'rating': 0.0},\n",
       " 'A3': {'actor_id': 'A3', 'actor_name': 'A3', 'rating': 0.0}}"
      ]
     },
     "execution_count": 5,
     "metadata": {},
     "output_type": "execute_result"
    }
   ],
   "source": [
    "actors = {\"A1\": {\"actor_id\":\"A1\", \"actor_name\":\"A1\",\"rating\":0.0},\n",
    "          \"A2\": {\"actor_id\":\"A2\", \"actor_name\":\"A2\",\"rating\":0.0},\n",
    "          \"A3\": {\"actor_id\":\"A3\", \"actor_name\":\"A3\",\"rating\":0.0}}\n",
    "actors"
   ]
  },
  {
   "cell_type": "code",
   "execution_count": 6,
   "metadata": {},
   "outputs": [
    {
     "name": "stdout",
     "output_type": "stream",
     "text": [
      "{'A1': [5.0, 3.0], 'A2': [5.0, 4.0], 'A3': [4.0]}\n",
      "{'A1': {'actor_id': 'A1', 'actor_name': 'A1', 'rating': 4.0}, 'A2': {'actor_id': 'A2', 'actor_name': 'A2', 'rating': 4.5}, 'A3': {'actor_id': 'A3', 'actor_name': 'A3', 'rating': 4.0}}\n"
     ]
    }
   ],
   "source": [
    "actor_ratings={}\n",
    "for i, row in mdf.iterrows():\n",
    "    _actor_ids=row[\"actors\"]\n",
    "    for _actor_id in _actor_ids:\n",
    "        if actor_ratings.get(_actor_id, None) is None:\n",
    "            actor_ratings[_actor_id]=[]\n",
    "        actor_ratings[_actor_id].extend([row[\"rating\"]])\n",
    "print(actor_ratings)\n",
    "for _actor_id in actor_ratings.keys():\n",
    "    rating= np.mean(actor_ratings[_actor_id])\n",
    "    actors[_actor_id][\"rating\"]=rating\n",
    "print(actors)"
   ]
  },
  {
   "cell_type": "code",
   "execution_count": null,
   "metadata": {},
   "outputs": [],
   "source": []
  },
  {
   "cell_type": "code",
   "execution_count": 7,
   "metadata": {},
   "outputs": [
    {
     "data": {
      "text/plain": [
       "[['M1', 5.0, 4.25, 0.0, 0.0, 0.0],\n",
       " ['M2', 3.0, 4.0, 0.0, 0.0, 0.0],\n",
       " ['M3', 4.0, 4.25, 0.0, 0.0, 0.0]]"
      ]
     },
     "execution_count": 7,
     "metadata": {},
     "output_type": "execute_result"
    }
   ],
   "source": [
    "## Movie dataset\n",
    "movies_columns=[\"movie_id\", \"rating\", \"actor_rating\", \"producer_rating\", \"director_rating\", \"genere_rating\"]\n",
    "movies=[]\n",
    "for idx, row in mdf.iterrows():\n",
    "    _actor_ids=row[\"actors\"]\n",
    "    _actor_ratings=[]\n",
    "    for _actor_id in _actor_ids:\n",
    "        r= actors.get(_actor_id, {}).get(\"rating\", 0.0)\n",
    "        _actor_ratings.append(r)\n",
    "    actor_rating=np.mean(_actor_ratings)\n",
    "    producer_rating=0.0 #TODO\n",
    "    director_rating=0.0\n",
    "    genere_rating=0.0\n",
    "    movies.append([row[\"movie_id\"], row[\"rating\"], actor_rating, producer_rating,director_rating,genere_rating])\n",
    "movies"
   ]
  },
  {
   "cell_type": "code",
   "execution_count": 8,
   "metadata": {},
   "outputs": [],
   "source": [
    "def compute_actor_rating(actor_ids):\n",
    "    _actor_ratings=[]\n",
    "    for _actor_id in actor_ids:\n",
    "        r= actors.get(_actor_id, {}).get(\"rating\", 0.0)\n",
    "        _actor_ratings.append(r)\n",
    "    actor_rating=np.mean(_actor_ratings)\n",
    "    return actor_rating\n"
   ]
  },
  {
   "cell_type": "code",
   "execution_count": 9,
   "metadata": {},
   "outputs": [],
   "source": [
    "## Movie dataset\n",
    "movies={}\n",
    "for idx, row in mdf.iterrows():\n",
    "    actor_rating=compute_actor_rating(row[\"actors\"])\n",
    "    producer_rating=0.0 #TODO\n",
    "    director_rating=0.0\n",
    "    genere_rating=0.0\n",
    "    movies[row[\"movie_id\"]]={\"rating\":row[\"rating\"], \"actor_rating\":actor_rating, \"producer_rating\":producer_rating,\"director_rating\":director_rating,\"genere_rating\":genere_rating}"
   ]
  },
  {
   "cell_type": "code",
   "execution_count": 10,
   "metadata": {},
   "outputs": [
    {
     "data": {
      "text/plain": [
       "{'M1': {'rating': 5.0,\n",
       "  'actor_rating': 4.25,\n",
       "  'producer_rating': 0.0,\n",
       "  'director_rating': 0.0,\n",
       "  'genere_rating': 0.0},\n",
       " 'M2': {'rating': 3.0,\n",
       "  'actor_rating': 4.0,\n",
       "  'producer_rating': 0.0,\n",
       "  'director_rating': 0.0,\n",
       "  'genere_rating': 0.0},\n",
       " 'M3': {'rating': 4.0,\n",
       "  'actor_rating': 4.25,\n",
       "  'producer_rating': 0.0,\n",
       "  'director_rating': 0.0,\n",
       "  'genere_rating': 0.0}}"
      ]
     },
     "execution_count": 10,
     "metadata": {},
     "output_type": "execute_result"
    }
   ],
   "source": [
    "movies"
   ]
  },
  {
   "cell_type": "code",
   "execution_count": 90,
   "metadata": {},
   "outputs": [],
   "source": [
    "def compute_score(features):\n",
    "    n=2\n",
    "    rating = features[\"rating\"]\n",
    "    if rating is None:\n",
    "        rating=0\n",
    "        n=n-1\n",
    "    score = (rating+features[\"actor_rating\"])/n\n",
    "    return score\n",
    "\n",
    "def categorize_score(score):\n",
    "    if score<=2.5:\n",
    "        category=\"FLOP\"\n",
    "    elif score <=3.5:\n",
    "        category=\"AVERAGE\"\n",
    "    else:\n",
    "        category=\"HIT\"\n",
    "    return category"
   ]
  },
  {
   "cell_type": "code",
   "execution_count": 73,
   "metadata": {},
   "outputs": [
    {
     "name": "stderr",
     "output_type": "stream",
     "text": [
      "/home/ashok/anaconda3/envs/ml/lib/python3.6/site-packages/ipykernel_launcher.py:1: DeprecationWarning: The default dtype for empty Series will be 'object' instead of 'float64' in a future version. Specify a dtype explicitly to silence this warning.\n",
      "  \"\"\"Entry point for launching an IPython kernel.\n"
     ]
    }
   ],
   "source": [
    "mdf[\"score\"]=pd.Series()\n",
    "mdf[\"score\"]=mdf.apply(lambda x:compute_score(movies[x[\"movie_id\"]]), axis=1)\n",
    "mdf[\"category\"]=mdf[\"score\"].apply(lambda x: categorize_score(x))"
   ]
  },
  {
   "cell_type": "code",
   "execution_count": 74,
   "metadata": {},
   "outputs": [
    {
     "data": {
      "text/html": [
       "<div>\n",
       "<style scoped>\n",
       "    .dataframe tbody tr th:only-of-type {\n",
       "        vertical-align: middle;\n",
       "    }\n",
       "\n",
       "    .dataframe tbody tr th {\n",
       "        vertical-align: top;\n",
       "    }\n",
       "\n",
       "    .dataframe thead th {\n",
       "        text-align: right;\n",
       "    }\n",
       "</style>\n",
       "<table border=\"1\" class=\"dataframe\">\n",
       "  <thead>\n",
       "    <tr style=\"text-align: right;\">\n",
       "      <th></th>\n",
       "      <th>movie_id</th>\n",
       "      <th>movie_name</th>\n",
       "      <th>rating</th>\n",
       "      <th>actors</th>\n",
       "      <th>director</th>\n",
       "      <th>producer</th>\n",
       "      <th>generes</th>\n",
       "      <th>score</th>\n",
       "      <th>category</th>\n",
       "    </tr>\n",
       "  </thead>\n",
       "  <tbody>\n",
       "    <tr>\n",
       "      <th>0</th>\n",
       "      <td>M1</td>\n",
       "      <td>Movie1</td>\n",
       "      <td>5.0</td>\n",
       "      <td>[A1, A2]</td>\n",
       "      <td>D1</td>\n",
       "      <td>P1</td>\n",
       "      <td>[drama, horrer]</td>\n",
       "      <td>4.625</td>\n",
       "      <td>HIT</td>\n",
       "    </tr>\n",
       "    <tr>\n",
       "      <th>1</th>\n",
       "      <td>M2</td>\n",
       "      <td>Movie2</td>\n",
       "      <td>3.0</td>\n",
       "      <td>[A1]</td>\n",
       "      <td>D1</td>\n",
       "      <td>P1</td>\n",
       "      <td>[action, horrer]</td>\n",
       "      <td>3.500</td>\n",
       "      <td>AVERAGE</td>\n",
       "    </tr>\n",
       "    <tr>\n",
       "      <th>2</th>\n",
       "      <td>M3</td>\n",
       "      <td>Movie3</td>\n",
       "      <td>4.0</td>\n",
       "      <td>[A2, A3]</td>\n",
       "      <td>D2</td>\n",
       "      <td>P1</td>\n",
       "      <td>[comedy, action]</td>\n",
       "      <td>4.125</td>\n",
       "      <td>HIT</td>\n",
       "    </tr>\n",
       "  </tbody>\n",
       "</table>\n",
       "</div>"
      ],
      "text/plain": [
       "  movie_id movie_name  rating    actors director producer           generes  \\\n",
       "0       M1     Movie1     5.0  [A1, A2]       D1       P1   [drama, horrer]   \n",
       "1       M2     Movie2     3.0      [A1]       D1       P1  [action, horrer]   \n",
       "2       M3     Movie3     4.0  [A2, A3]       D2       P1  [comedy, action]   \n",
       "\n",
       "   score category  \n",
       "0  4.625      HIT  \n",
       "1  3.500  AVERAGE  \n",
       "2  4.125      HIT  "
      ]
     },
     "execution_count": 74,
     "metadata": {},
     "output_type": "execute_result"
    }
   ],
   "source": [
    "mdf"
   ]
  },
  {
   "cell_type": "code",
   "execution_count": 103,
   "metadata": {},
   "outputs": [],
   "source": [
    "# Inference\n",
    "x = {\"movie_id\":None, \"movie_name\":\"XYZ\", \"actors\":[\"A2\", \"A3\"], \"director\":\"D1\", \"generes\":[\"comedy\"], \"rating\":None}"
   ]
  },
  {
   "cell_type": "code",
   "execution_count": 104,
   "metadata": {},
   "outputs": [
    {
     "data": {
      "text/plain": [
       "{'movie_id': None,\n",
       " 'movie_name': 'XYZ',\n",
       " 'actors': ['A2', 'A3'],\n",
       " 'director': 'D1',\n",
       " 'generes': ['comedy'],\n",
       " 'rating': None}"
      ]
     },
     "execution_count": 104,
     "metadata": {},
     "output_type": "execute_result"
    }
   ],
   "source": [
    "x"
   ]
  },
  {
   "cell_type": "code",
   "execution_count": 105,
   "metadata": {},
   "outputs": [
    {
     "data": {
      "text/plain": [
       "{'rating': None,\n",
       " 'actor_rating': 4.25,\n",
       " 'producer_rating': 0.0,\n",
       " 'director_rating': 0.0,\n",
       " 'genere_rating': 0.0}"
      ]
     },
     "execution_count": 105,
     "metadata": {},
     "output_type": "execute_result"
    }
   ],
   "source": [
    "features ={'rating': x[\"rating\"],\n",
    "  'actor_rating': compute_actor_rating(x[\"actors\"]),\n",
    "  'producer_rating': 0.0,\n",
    "  'director_rating': 0.0,\n",
    "  'genere_rating': 0.0}\n",
    "features"
   ]
  },
  {
   "cell_type": "code",
   "execution_count": 106,
   "metadata": {},
   "outputs": [
    {
     "name": "stdout",
     "output_type": "stream",
     "text": [
      "HIT 4.25\n"
     ]
    }
   ],
   "source": [
    "score = compute_score(features)\n",
    "category=categorize_score(score)\n",
    "print (category, score)"
   ]
  },
  {
   "cell_type": "code",
   "execution_count": null,
   "metadata": {},
   "outputs": [],
   "source": []
  }
 ],
 "metadata": {
  "kernelspec": {
   "display_name": "Python 3",
   "language": "python",
   "name": "python3"
  },
  "language_info": {
   "codemirror_mode": {
    "name": "ipython",
    "version": 3
   },
   "file_extension": ".py",
   "mimetype": "text/x-python",
   "name": "python",
   "nbconvert_exporter": "python",
   "pygments_lexer": "ipython3",
   "version": "3.6.10"
  }
 },
 "nbformat": 4,
 "nbformat_minor": 4
}